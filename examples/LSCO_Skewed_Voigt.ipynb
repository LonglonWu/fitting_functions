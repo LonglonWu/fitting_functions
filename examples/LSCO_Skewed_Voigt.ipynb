{
 "cells": [
  {
   "cell_type": "code",
   "execution_count": 1,
   "metadata": {},
   "outputs": [],
   "source": [
    "import lmfit\n",
    "import numpy as np\n",
    "import copy\n",
    "import matplotlib.pyplot as plt\n",
    "from fitting_functions import paramagnon\n",
    "from matplotlib.ticker import AutoMinorLocator\n",
    "\n",
    "%matplotlib widget"
   ]
  },
  {
   "cell_type": "code",
   "execution_count": 2,
   "metadata": {},
   "outputs": [],
   "source": [
    "E_, I_ = np.loadtxt('LSCO_30_LH_grazout.txt', unpack=True, skiprows=1)\n",
    "E_ *= -1\n",
    "choose = np.logical_and(E_>-.5, E_<2.5)\n",
    "E = E_[choose]\n",
    "I = I_[choose]\n",
    "dd_onset = 1."
   ]
  },
  {
   "cell_type": "code",
   "execution_count": 3,
   "metadata": {},
   "outputs": [
    {
     "data": {
      "application/vnd.jupyter.widget-view+json": {
       "model_id": "473a3c7e5a3c443e82b34c719e82f929",
       "version_major": 2,
       "version_minor": 0
      },
      "text/plain": [
       "Canvas(toolbar=Toolbar(toolitems=[('Home', 'Reset original view', 'home', 'home'), ('Back', 'Back to previous …"
      ]
     },
     "metadata": {},
     "output_type": "display_data"
    },
    {
     "name": "stdout",
     "output_type": "stream",
     "text": [
      "[[Model]]\n",
      "    (((((Model(gaussian, prefix='el_') + Model(skewed_voigt, prefix='mag_')) + Model(pvoigt, prefix='dd0_')) + Model(pvoigt, prefix='dd1_')) + Model(pvoigt, prefix='dd2_')) + Model(constant))\n",
      "[[Fit Statistics]]\n",
      "    # fitting method   = leastsq\n",
      "    # function evals   = 81\n",
      "    # data points      = 98\n",
      "    # variables        = 5\n",
      "    chi-square         = 10651.6371\n",
      "    reduced chi-square = 114.533732\n",
      "    Akaike info crit   = 469.473137\n",
      "    Bayesian info crit = 482.397975\n",
      "[[Variables]]\n",
      "    el_amplitude:   9.73320864 +/- 1.19238763 (12.25%) (init = 100)\n",
      "    el_center:      0 (fixed)\n",
      "    el_sigma:       0.05520592 (fixed)\n",
      "    mag_amplitude:  82.9621217 +/- 1.74174059 (2.10%) (init = 20)\n",
      "    mag_center:     0.14933230 +/- 0.00886028 (5.93%) (init = 0.35)\n",
      "    mag_sigma:      0.14764338 +/- 0.01217764 (8.25%) (init = 0.05)\n",
      "    mag_skew:       1.59718395 +/- 0.37027640 (23.18%) (init = 0)\n",
      "    dd0_amplitude:  682.3626 (fixed)\n",
      "    dd0_center:     1.801451 (fixed)\n",
      "    dd0_sigma:      0.2912688 (fixed)\n",
      "    dd0_fraction:   5.204583e-10 (fixed)\n",
      "    dd1_amplitude:  227.6092 (fixed)\n",
      "    dd1_center:     1.717448 (fixed)\n",
      "    dd1_sigma:      0.1024535 (fixed)\n",
      "    dd1_fraction:   1.332268e-15 (fixed)\n",
      "    dd2_amplitude:  570.1744 (fixed)\n",
      "    dd2_center:     2.099068 (fixed)\n",
      "    dd2_sigma:      0.2530902 (fixed)\n",
      "    dd2_fraction:   0.9344243 (fixed)\n",
      "    c:              7.519076 (fixed)\n",
      "    el_fwhm:        0.13000000 +/- 0.00000000 (0.00%) == '2.3548200*el_sigma'\n",
      "    el_height:      70.3364576 +/- 8.61671880 (12.25%) == '0.3989423*el_amplitude/max(2.220446049250313e-16, el_sigma)'\n",
      "    mag_gamma:      0.05 (fixed)\n",
      "    mag_height:     224.169205 +/- 18.7145243 (8.35%) == '0.3989423*mag_amplitude/max(2.220446049250313e-16, mag_sigma)'\n",
      "    mag_fwhm:       0.53170959 +/- 0.04385547 (8.25%) == '3.6013100*mag_sigma'\n",
      "    dd0_fwhm:       0.2 (fixed)\n",
      "    dd0_height:     1182.043 (fixed)\n",
      "    dd1_fwhm:       0.2 (fixed)\n",
      "    dd1_height:     1182.043 (fixed)\n",
      "    dd2_fwhm:       0.2 (fixed)\n",
      "    dd2_height:     1182.043 (fixed)\n",
      "[[Correlations]] (unreported correlations are < 0.100)\n",
      "    C(mag_center, mag_sigma)       = -0.939\n",
      "    C(mag_sigma, mag_skew)         =  0.919\n",
      "    C(mag_center, mag_skew)        = -0.909\n",
      "    C(el_amplitude, mag_skew)      =  0.562\n",
      "    C(el_amplitude, mag_amplitude) = -0.384\n",
      "    C(el_amplitude, mag_sigma)     =  0.366\n",
      "    C(el_amplitude, mag_center)    = -0.340\n",
      "    C(mag_amplitude, mag_skew)     = -0.175\n"
     ]
    }
   ],
   "source": [
    "model = (lmfit.models.GaussianModel(prefix='el_') + lmfit.models.SkewedVoigtModel(prefix='mag_')\n",
    "         + lmfit.models.PseudoVoigtModel(prefix='dd0_')\n",
    "         + lmfit.models.PseudoVoigtModel(prefix='dd1_')\n",
    "         + lmfit.models.PseudoVoigtModel(prefix='dd2_')\n",
    "         + lmfit.models.ConstantModel())\n",
    "params = model.make_params()\n",
    "\n",
    "fwhm = 2*np.sqrt(2*np.log(2))\n",
    "res = 0.13/fwhm\n",
    "                    \n",
    "params['el_center'].set(value=0, vary=False)\n",
    "params['el_amplitude'].set(value=100, min=0)\n",
    "params['el_sigma'].set(value=res, vary=False)\n",
    "\n",
    "params['mag_center'].set(value=.35)\n",
    "params['mag_sigma'].set(value=.05, min=0)\n",
    "params['mag_gamma'].set(value=.05, min=0)\n",
    "params['mag_skew'].set(value=.0, min=-10, max=10)\n",
    "params['mag_amplitude'].set(value=20, min=0)\n",
    "\n",
    "#params['mag_res'].set(value=res, vary=False)\n",
    "#params['mag_kBT'].set(value=8.617e-5*25, vary=False)\n",
    "\n",
    "params['dd0_center'].set(value=1.6, min=1, max=3)\n",
    "params['dd0_sigma'].set(value=0.1, min=0)\n",
    "params['dd0_amplitude'].set(value=300)\n",
    "\n",
    "params['dd1_center'].set(value=1.8, min=1, max=3)\n",
    "params['dd1_sigma'].set(value=0.1, min=0)\n",
    "params['dd1_amplitude'].set(value=300)\n",
    "\n",
    "params['dd2_center'].set(value=2, min=1, max=3)\n",
    "params['dd2_sigma'].set(value=0.1, min=0)\n",
    "params['dd2_amplitude'].set(value=300)\n",
    "\n",
    "params_dd = copy.deepcopy(params)\n",
    "\n",
    "for key in params_dd.keys():\n",
    "    if key[:2] in ['el', 'ma']:\n",
    "        params_dd[key].set(vary=False)\n",
    "    else:\n",
    "        params_dd[key].set(vary=True)\n",
    "\n",
    "# Fit dds and force leading edge accuracy  by artificial weighting\n",
    "dd_region = np.logical_or(E<-.3, E>dd_onset)\n",
    "weights = .1 + np.exp(-1*((E-1.1)/.3)**2)\n",
    "params_dd['c'].set(value=I.min(), vary=False)       \n",
    "result_dds = model.fit(I[dd_region], x=E[dd_region], params=params_dd,\n",
    "                      weights=weights[dd_region])\n",
    "\n",
    "# fig, ax = plt.subplots()\n",
    "# result_dds.plot_fit(ax=ax, show_init=True)\n",
    "\n",
    "# assign and fix values for dds \n",
    "for key in params.keys():\n",
    "    if key[:2] == 'dd':\n",
    "        params[key].set(value=result_dds.params[key].value, vary=False)\n",
    "\n",
    "params['c'].set(value=I.min(), vary=False)       \n",
    "result = model.fit(I, x=E, params=params)\n",
    "\n",
    "fig, ax = plt.subplots()\n",
    "result.plot_fit(ax=ax, show_init=True)\n",
    "\n",
    "print(result.fit_report())"
   ]
  },
  {
   "cell_type": "code",
   "execution_count": 4,
   "metadata": {},
   "outputs": [
    {
     "data": {
      "application/vnd.jupyter.widget-view+json": {
       "model_id": "239c49f6b34043c882297ce75d405ba9",
       "version_major": 2,
       "version_minor": 0
      },
      "text/plain": [
       "Canvas(toolbar=Toolbar(toolitems=[('Home', 'Reset original view', 'home', 'home'), ('Back', 'Back to previous …"
      ]
     },
     "metadata": {},
     "output_type": "display_data"
    },
    {
     "name": "stdout",
     "output_type": "stream",
     "text": [
      "[[Model]]\n",
      "    (((((Model(gaussian, prefix='el_') + Model(skewed_voigt, prefix='mag_')) + Model(pvoigt, prefix='dd0_')) + Model(pvoigt, prefix='dd1_')) + Model(pvoigt, prefix='dd2_')) + Model(constant))\n",
      "[[Fit Statistics]]\n",
      "    # fitting method   = leastsq\n",
      "    # function evals   = 81\n",
      "    # data points      = 98\n",
      "    # variables        = 5\n",
      "    chi-square         = 10651.6371\n",
      "    reduced chi-square = 114.533732\n",
      "    Akaike info crit   = 469.473137\n",
      "    Bayesian info crit = 482.397975\n",
      "[[Variables]]\n",
      "    el_amplitude:   9.73320864 +/- 1.19238763 (12.25%) (init = 100)\n",
      "    el_center:      0 (fixed)\n",
      "    el_sigma:       0.05520592 (fixed)\n",
      "    mag_amplitude:  82.9621217 +/- 1.74174059 (2.10%) (init = 20)\n",
      "    mag_center:     0.14933230 +/- 0.00886028 (5.93%) (init = 0.35)\n",
      "    mag_sigma:      0.14764338 +/- 0.01217764 (8.25%) (init = 0.05)\n",
      "    mag_skew:       1.59718395 +/- 0.37027640 (23.18%) (init = 0)\n",
      "    dd0_amplitude:  682.3626 (fixed)\n",
      "    dd0_center:     1.801451 (fixed)\n",
      "    dd0_sigma:      0.2912688 (fixed)\n",
      "    dd0_fraction:   5.204583e-10 (fixed)\n",
      "    dd1_amplitude:  227.6092 (fixed)\n",
      "    dd1_center:     1.717448 (fixed)\n",
      "    dd1_sigma:      0.1024535 (fixed)\n",
      "    dd1_fraction:   1.332268e-15 (fixed)\n",
      "    dd2_amplitude:  570.1744 (fixed)\n",
      "    dd2_center:     2.099068 (fixed)\n",
      "    dd2_sigma:      0.2530902 (fixed)\n",
      "    dd2_fraction:   0.9344243 (fixed)\n",
      "    c:              7.519076 (fixed)\n",
      "    el_fwhm:        0.13000000 +/- 0.00000000 (0.00%) == '2.3548200*el_sigma'\n",
      "    el_height:      70.3364576 +/- 8.61671880 (12.25%) == '0.3989423*el_amplitude/max(2.220446049250313e-16, el_sigma)'\n",
      "    mag_gamma:      0.05 (fixed)\n",
      "    mag_height:     224.169205 +/- 18.7145243 (8.35%) == '0.3989423*mag_amplitude/max(2.220446049250313e-16, mag_sigma)'\n",
      "    mag_fwhm:       0.53170959 +/- 0.04385547 (8.25%) == '3.6013100*mag_sigma'\n",
      "    dd0_fwhm:       0.2 (fixed)\n",
      "    dd0_height:     1182.043 (fixed)\n",
      "    dd1_fwhm:       0.2 (fixed)\n",
      "    dd1_height:     1182.043 (fixed)\n",
      "    dd2_fwhm:       0.2 (fixed)\n",
      "    dd2_height:     1182.043 (fixed)\n",
      "[[Correlations]] (unreported correlations are < 0.100)\n",
      "    C(mag_center, mag_sigma)       = -0.939\n",
      "    C(mag_sigma, mag_skew)         =  0.919\n",
      "    C(mag_center, mag_skew)        = -0.909\n",
      "    C(el_amplitude, mag_skew)      =  0.562\n",
      "    C(el_amplitude, mag_amplitude) = -0.384\n",
      "    C(el_amplitude, mag_sigma)     =  0.366\n",
      "    C(el_amplitude, mag_center)    = -0.340\n",
      "    C(mag_amplitude, mag_skew)     = -0.175\n"
     ]
    },
    {
     "data": {
      "text/plain": [
       "17433"
      ]
     },
     "execution_count": 4,
     "metadata": {},
     "output_type": "execute_result"
    }
   ],
   "source": [
    "fig, ax = plt.subplots()\n",
    "\n",
    "x_fit = np.linspace(E.min(), E.max(), 1000)\n",
    "\n",
    "components = result.eval_components(x=x_fit)\n",
    "constant = components.pop('constant')\n",
    "dd0 = components.pop('dd0_')\n",
    "dd1 = components.pop('dd1_')\n",
    "dd2 = components.pop('dd2_')\n",
    "\n",
    "BG = constant + dd0 + dd1 + dd2\n",
    "\n",
    "ax.plot(x_fit, BG, 'k:', label='BG')\n",
    "for model_name, model_value in components.items():\n",
    "    ax.plot(x_fit, model_value + BG, '-', label=model_name.strip('_'))\n",
    "\n",
    "y_fit = result.eval(**result.best_values, x=x_fit)\n",
    "ax.plot(x_fit, y_fit, color=[0.5]*3, label='fit', lw=3, alpha=0.5)\n",
    "ax.plot(E, I, 'k.', label='data')\n",
    "\n",
    "ax.set_xlabel('Energy loss (eV)')\n",
    "ax.set_ylabel('I')\n",
    "ax.legend()\n",
    "ax.axis([-.4, dd_onset, 0, 400])\n",
    "\n",
    "ax.xaxis.set_minor_locator(AutoMinorLocator(2))\n",
    "ax.yaxis.set_minor_locator(AutoMinorLocator(2))\n",
    "\n",
    "print(result.fit_report())\n",
    "\n",
    "result.dump(open('fit_info.json','w'))"
   ]
  },
  {
   "cell_type": "code",
   "execution_count": 5,
   "metadata": {},
   "outputs": [],
   "source": [
    "ci = result.ci_report()\n",
    "with open('ci_info.text','w') as f:\n",
    "    f.write(ci)"
   ]
  },
  {
   "cell_type": "code",
   "execution_count": 6,
   "metadata": {},
   "outputs": [
    {
     "data": {
      "text/plain": [
       "OrderedDict([('el_amplitude',\n",
       "              [(0.9973002039367398, 5.005659036754955),\n",
       "               (0.9544997361036416, 7.225382342470567),\n",
       "               (0.6826894921370859, 8.547416271274745),\n",
       "               (0.0, 9.733208636188518),\n",
       "               (0.6826894921370859, 10.853881094403041),\n",
       "               (0.9544997361036416, 11.945311401379854),\n",
       "               (0.9973002039367398, 13.035655025696597)]),\n",
       "             ('mag_amplitude',\n",
       "              [(0.9973002039367398, 77.69333970101526),\n",
       "               (0.9544997361036416, 79.46927765898785),\n",
       "               (0.6826894921370859, 81.21480443894902),\n",
       "               (0.0, 82.96212167289943),\n",
       "               (0.6826894921370859, 84.74385991884441),\n",
       "               (0.9544997361036416, 86.60154544208234),\n",
       "               (0.9973002039367398, 88.58941996324236)]),\n",
       "             ('mag_center',\n",
       "              [(0.9973002039367398, 0.1301084985239225),\n",
       "               (0.9544997361036416, 0.1359683135051074),\n",
       "               (0.6826894921370859, 0.14215925864987083),\n",
       "               (0.0, 0.14933230205736972),\n",
       "               (0.6826894921370859, 0.1593520712581666),\n",
       "               (0.9544997361036416, 0.20277643449355978),\n",
       "               (0.9973002039367398, 0.2303084868689675)]),\n",
       "             ('mag_sigma',\n",
       "              [(0.9973002039367398, 0.08891612395824218),\n",
       "               (0.9544997361036416, 0.10107948449898134),\n",
       "               (0.6826894921370859, 0.13445316698821413),\n",
       "               (0.0, 0.14764338201305316),\n",
       "               (0.6826894921370859, 0.1585391090055292),\n",
       "               (0.9544997361036416, 0.16862620737655437),\n",
       "               (0.9973002039367398, 0.17851723537149028)]),\n",
       "             ('mag_skew',\n",
       "              [(0.9973002039367398, 0.19110181008176713),\n",
       "               (0.9544997361036416, 0.4581304823036353),\n",
       "               (0.6826894921370859, 1.244968524457391),\n",
       "               (0.0, 1.5971839507827124),\n",
       "               (0.6826894921370859, 1.9151491943316825),\n",
       "               (0.9544997361036416, 2.2357605040864414),\n",
       "               (0.9973002039367398, 2.5798557877300854)])])"
      ]
     },
     "execution_count": 6,
     "metadata": {},
     "output_type": "execute_result"
    }
   ],
   "source": [
    "result.ci_out"
   ]
  },
  {
   "cell_type": "code",
   "execution_count": null,
   "metadata": {},
   "outputs": [],
   "source": []
  }
 ],
 "metadata": {
  "kernelspec": {
   "display_name": "Python 3",
   "language": "python",
   "name": "python3"
  },
  "language_info": {
   "codemirror_mode": {
    "name": "ipython",
    "version": 3
   },
   "file_extension": ".py",
   "mimetype": "text/x-python",
   "name": "python",
   "nbconvert_exporter": "python",
   "pygments_lexer": "ipython3",
   "version": "3.8.3"
  }
 },
 "nbformat": 4,
 "nbformat_minor": 4
}
