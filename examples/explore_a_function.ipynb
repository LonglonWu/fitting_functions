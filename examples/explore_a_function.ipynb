{
 "cells": [
  {
   "cell_type": "code",
   "execution_count": 1,
   "metadata": {},
   "outputs": [],
   "source": [
    "import numpy as np\n",
    "import lmfit\n",
    "from fitting_functions import skewed_voigt_convolved\n",
    "import matplotlib.pyplot as plt\n",
    "from ipywidgets import interact\n",
    "\n",
    "%matplotlib widget"
   ]
  },
  {
   "cell_type": "code",
   "execution_count": 2,
   "metadata": {},
   "outputs": [
    {
     "data": {
      "application/vnd.jupyter.widget-view+json": {
       "model_id": "4a01ab7ab3e14cec887d8185001ec779",
       "version_major": 2,
       "version_minor": 0
      },
      "text/plain": [
       "Canvas(toolbar=Toolbar(toolitems=[('Home', 'Reset original view', 'home', 'home'), ('Back', 'Back to previous …"
      ]
     },
     "metadata": {},
     "output_type": "display_data"
    },
    {
     "data": {
      "application/vnd.jupyter.widget-view+json": {
       "model_id": "1dc3f04c71af42daa0c7815f028e74be",
       "version_major": 2,
       "version_minor": 0
      },
      "text/plain": [
       "interactive(children=(FloatSlider(value=1.0, description='amplitude', max=3.0), FloatSlider(value=0.0, descrip…"
      ]
     },
     "metadata": {},
     "output_type": "display_data"
    },
    {
     "data": {
      "text/plain": [
       "(-10.0, 10.0, 0.0, 0.5)"
      ]
     },
     "execution_count": 2,
     "metadata": {},
     "output_type": "execute_result"
    }
   ],
   "source": [
    "x = np.linspace(-10, 10, 300)\n",
    "y = skewed_voigt_convolved(x)\n",
    "\n",
    "fig, ax = plt.subplots()\n",
    "\n",
    "l, = ax.plot(x, y)\n",
    "\n",
    "def update(amplitude=1.0, center=0.0, sigma=1.0,\n",
    "                           gamma=1., skew=0.0, res=1.):\n",
    "    y = skewed_voigt_convolved(x, amplitude, center, sigma,\n",
    "                           gamma, skew, res)\n",
    "    l.set_data(x, y)\n",
    "\n",
    "interact(update, amplitude=(0, 3.), sigma=(.1, 2.),\n",
    "                           gamma=(.1, 2.), skew=(-5., 5.), res=(.01, 1))\n",
    "\n",
    "ax.axis([-10, 10, 0, .5])"
   ]
  },
  {
   "cell_type": "code",
   "execution_count": null,
   "metadata": {},
   "outputs": [],
   "source": []
  },
  {
   "cell_type": "code",
   "execution_count": null,
   "metadata": {},
   "outputs": [],
   "source": []
  }
 ],
 "metadata": {
  "kernelspec": {
   "display_name": "Python 3",
   "language": "python",
   "name": "python3"
  },
  "language_info": {
   "codemirror_mode": {
    "name": "ipython",
    "version": 3
   },
   "file_extension": ".py",
   "mimetype": "text/x-python",
   "name": "python",
   "nbconvert_exporter": "python",
   "pygments_lexer": "ipython3",
   "version": "3.8.3"
  }
 },
 "nbformat": 4,
 "nbformat_minor": 4
}
