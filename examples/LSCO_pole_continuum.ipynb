{
 "cells": [
  {
   "cell_type": "code",
   "execution_count": 1,
   "metadata": {},
   "outputs": [],
   "source": [
    "import lmfit\n",
    "import numpy as np\n",
    "import copy\n",
    "import matplotlib.pyplot as plt\n",
    "\n",
    "from fitting_functions import paramagnon, power_decay_convolved\n",
    "from matplotlib.ticker import AutoMinorLocator\n",
    "\n",
    "%matplotlib widget"
   ]
  },
  {
   "cell_type": "code",
   "execution_count": 2,
   "metadata": {},
   "outputs": [],
   "source": [
    "E_, I_ = np.loadtxt('LSCO_30_LH_grazout.txt', unpack=True, skiprows=1)\n",
    "E_ *= -1\n",
    "choose = np.logical_and(E_>-.5, E_<2.5)\n",
    "E = E_[choose]\n",
    "I = I_[choose]\n",
    "\n",
    "dd_onset = 1"
   ]
  },
  {
   "cell_type": "code",
   "execution_count": 3,
   "metadata": {},
   "outputs": [
    {
     "data": {
      "application/vnd.jupyter.widget-view+json": {
       "model_id": "1b77f2032513468c82fb0463f351bf0e",
       "version_major": 2,
       "version_minor": 0
      },
      "text/plain": [
       "Canvas(toolbar=Toolbar(toolitems=[('Home', 'Reset original view', 'home', 'home'), ('Back', 'Back to previous …"
      ]
     },
     "metadata": {},
     "output_type": "display_data"
    },
    {
     "data": {
      "text/plain": [
       "<matplotlib.axes._subplots.AxesSubplot at 0x7fbb0438c940>"
      ]
     },
     "execution_count": 3,
     "metadata": {},
     "output_type": "execute_result"
    }
   ],
   "source": [
    "model = (lmfit.models.GaussianModel(prefix='el_') \n",
    "         + lmfit.models.GaussianModel(prefix='ph_') \n",
    "         + lmfit.Model(power_decay_convolved, prefix='cont_')\n",
    "         + lmfit.models.PseudoVoigtModel(prefix='dd0_')\n",
    "         + lmfit.models.PseudoVoigtModel(prefix='dd1_')\n",
    "         + lmfit.models.PseudoVoigtModel(prefix='dd2_')\n",
    "         + lmfit.models.ConstantModel())\n",
    "params = model.make_params()\n",
    "\n",
    "fwhm = 2*np.sqrt(2*np.log(2))\n",
    "res = 0.13/fwhm\n",
    "                    \n",
    "params['el_center'].set(value=0, vary=False)\n",
    "params['el_amplitude'].set(value=14, min=0)\n",
    "params['el_sigma'].set(value=res, vary=False)\n",
    "\n",
    "params['ph_center'].set(value=.09, min=0.05, max=.1, vary=False)\n",
    "params['ph_sigma'].set(value=res, vary=False, min=0)\n",
    "params['ph_amplitude'].set(value=10, min=0) #!!!!!!!!\n",
    "\n",
    "params['cont_center'].set(value=.23, min=0, max=1)  # expr='mag_center'\n",
    "params['cont_eta'].set(value=.5, min=0.01, max=1.)\n",
    "params['cont_amplitude'].set(value=20, min=0)\n",
    "params['cont_res'].set(value=res*1.5, min=0)\n",
    "\n",
    "\n",
    "params['dd0_center'].set(value=1.6, min=1, max=3)\n",
    "params['dd0_sigma'].set(value=0.1, min=0)\n",
    "params['dd0_amplitude'].set(value=300)\n",
    "\n",
    "params['dd1_center'].set(value=1.8, min=1, max=3)\n",
    "params['dd1_sigma'].set(value=0.1, min=0)\n",
    "params['dd1_amplitude'].set(value=300)\n",
    "\n",
    "params['dd2_center'].set(value=2, min=1, max=3)\n",
    "params['dd2_sigma'].set(value=0.1, min=0)\n",
    "params['dd2_amplitude'].set(value=300)\n",
    "\n",
    "params_dd = copy.deepcopy(params)\n",
    "\n",
    "for key in params_dd.keys():\n",
    "    if key[:2] in ['el', 'ph', 'cont']:\n",
    "        params_dd[key].set(vary=False)\n",
    "    else:\n",
    "        params_dd[key].set(vary=True)\n",
    "\n",
    "# Fit dds and force leading edge accuracy  by artificial weighting\n",
    "dd_region = np.logical_or(E<-.3, E>dd_onset)\n",
    "weights = .2 + np.exp(-1*((E-dd_onset)/.5)**2)\n",
    "params_dd['c'].set(value=I.min(), vary=False)       \n",
    "result_dds = model.fit(I[dd_region], x=E[dd_region], params=params_dd,\n",
    "                      weights=weights[dd_region])\n",
    "\n",
    "# fig, ax = plt.subplots()\n",
    "# result_dds.plot_fit(ax=ax, show_init=True)\n",
    "\n",
    "# assign values for dds \n",
    "for key in params.keys():\n",
    "    if key[:2] == 'dd':\n",
    "        params[key].set(value=result_dds.params[key].value, vary=True)\n",
    "\n",
    "params['c'].set(value=I.min(), vary=False)       \n",
    "result = model.fit(I, x=E, params=params)\n",
    "\n",
    "fig, ax = plt.subplots()\n",
    "result.plot_fit(ax=ax, show_init=True)\n",
    " \n",
    "#print(result.fit_report())"
   ]
  },
  {
   "cell_type": "code",
   "execution_count": 4,
   "metadata": {},
   "outputs": [
    {
     "data": {
      "application/vnd.jupyter.widget-view+json": {
       "model_id": "8c9aaaad9f9342b7a02fccae048c6130",
       "version_major": 2,
       "version_minor": 0
      },
      "text/plain": [
       "Canvas(toolbar=Toolbar(toolitems=[('Home', 'Reset original view', 'home', 'home'), ('Back', 'Back to previous …"
      ]
     },
     "metadata": {},
     "output_type": "display_data"
    },
    {
     "name": "stdout",
     "output_type": "stream",
     "text": [
      "[[Model]]\n",
      "    ((((((Model(gaussian, prefix='el_') + Model(gaussian, prefix='ph_')) + Model(power_decay_convolved, prefix='cont_')) + Model(pvoigt, prefix='dd0_')) + Model(pvoigt, prefix='dd1_')) + Model(pvoigt, prefix='dd2_')) + Model(constant))\n",
      "[[Fit Statistics]]\n",
      "    # fitting method   = leastsq\n",
      "    # function evals   = 53\n",
      "    # data points      = 98\n",
      "    # variables        = 24\n",
      "    chi-square         = 24534.6624\n",
      "    reduced chi-square = 331.549492\n",
      "    Akaike info crit   = 589.241722\n",
      "    Bayesian info crit = 651.280941\n",
      "##  Warning: uncertainties could not be estimated:\n",
      "    cont_res:        at initial value\n",
      "    dd0_fwhm:        at initial value\n",
      "    dd0_height:      at initial value\n",
      "    dd1_fwhm:        at initial value\n",
      "    dd1_height:      at initial value\n",
      "    dd2_fwhm:        at initial value\n",
      "    dd2_height:      at initial value\n",
      "[[Variables]]\n",
      "    el_amplitude:    9.41057924 (init = 14)\n",
      "    el_center:       0 (fixed)\n",
      "    el_sigma:        0.05520592 (fixed)\n",
      "    ph_amplitude:    6.37732156 (init = 10)\n",
      "    ph_center:       0.09 (fixed)\n",
      "    ph_sigma:        0.05520592 (fixed)\n",
      "    cont_amplitude:  16.3861128 (init = 20)\n",
      "    cont_center:     0.23027089 (init = 0.23)\n",
      "    cont_eta:        0.49088180 (init = 0.5)\n",
      "    cont_res:        0.08280888 (init = 0.08280888)\n",
      "    dd0_amplitude:   278.816835 (init = 293.497)\n",
      "    dd0_center:      1.65416644 (init = 1.640625)\n",
      "    dd0_sigma:       0.24819930 (init = 0.2409198)\n",
      "    dd0_fraction:    0.06218932 (init = 0.2384299)\n",
      "    dd1_amplitude:   329.449893 (init = 337.3265)\n",
      "    dd1_center:      1.71952042 (init = 1.720834)\n",
      "    dd1_sigma:       0.11180047 (init = 0.1110019)\n",
      "    dd1_fraction:    0.27610895 (init = 0.3194205)\n",
      "    dd2_amplitude:   811.812979 (init = 809.1644)\n",
      "    dd2_center:      2.02065878 (init = 2.017502)\n",
      "    dd2_sigma:       0.26805508 (init = 0.2672992)\n",
      "    dd2_fraction:    0.35069124 (init = 0.3227307)\n",
      "    c:               7.519076 (fixed)\n",
      "    el_fwhm:         0.13000000 == '2.3548200*el_sigma'\n",
      "    el_height:       68.0049953 == '0.3989423*el_amplitude/max(2.220446049250313e-16, el_sigma)'\n",
      "    ph_fwhm:         0.13000000 == '2.3548200*ph_sigma'\n",
      "    ph_height:       46.0853378 == '0.3989423*ph_amplitude/max(2.220446049250313e-16, ph_sigma)'\n",
      "    dd0_fwhm:        0.20000000 (init = 0.2)\n",
      "    dd0_height:      1182.04279 (init = 1182.043)\n",
      "    dd1_fwhm:        0.20000000 (init = 0.2)\n",
      "    dd1_height:      1182.04279 (init = 1182.043)\n",
      "    dd2_fwhm:        0.20000000 (init = 0.2)\n",
      "    dd2_height:      1182.04279 (init = 1182.043)\n"
     ]
    },
    {
     "data": {
      "text/plain": [
       "17283"
      ]
     },
     "execution_count": 4,
     "metadata": {},
     "output_type": "execute_result"
    }
   ],
   "source": [
    "fig, ax = plt.subplots()\n",
    "\n",
    "x_fit = np.linspace(E.min(), E.max(), 10000)\n",
    "\n",
    "components = result.eval_components(x=x_fit)\n",
    "y_fit = result.eval(x=x_fit)\n",
    "\n",
    "constant = components.pop('constant')\n",
    "dd0 = components.pop('dd0_')\n",
    "dd1 = components.pop('dd1_')\n",
    "dd2 = components.pop('dd2_')\n",
    "\n",
    "BG = constant + dd0 + dd1 + dd2\n",
    "\n",
    "ax.plot(x_fit, BG, 'k:', label='BG')\n",
    "for model_name, model_value in components.items():\n",
    "    ax.plot(x_fit, model_value + BG, '-', label=model_name.strip('_'))\n",
    "\n",
    "ax.plot(x_fit, y_fit, color=[0.5]*3, label='fit', lw=3, alpha=0.5)\n",
    "ax.plot(E, I, 'k.', label='data')\n",
    "\n",
    "ax.set_xlabel('Energy loss (eV)')\n",
    "ax.set_ylabel('I')\n",
    "ax.legend()\n",
    "ax.axis([-.4, dd_onset, 0, 400])\n",
    "\n",
    "ax.xaxis.set_minor_locator(AutoMinorLocator(2))\n",
    "ax.yaxis.set_minor_locator(AutoMinorLocator(2))\n",
    "\n",
    "print(result.fit_report())\n",
    "\n",
    "result.dump(open('fit_info.json','w'))\n"
   ]
  }
 ],
 "metadata": {
  "kernelspec": {
   "display_name": "Python 3",
   "language": "python",
   "name": "python3"
  },
  "language_info": {
   "codemirror_mode": {
    "name": "ipython",
    "version": 3
   },
   "file_extension": ".py",
   "mimetype": "text/x-python",
   "name": "python",
   "nbconvert_exporter": "python",
   "pygments_lexer": "ipython3",
   "version": "3.8.3"
  }
 },
 "nbformat": 4,
 "nbformat_minor": 4
}
